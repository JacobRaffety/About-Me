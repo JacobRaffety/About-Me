{
  "nbformat": 4,
  "nbformat_minor": 0,
  "metadata": {
    "colab": {
      "provenance": [],
      "toc_visible": true,
      "authorship_tag": "ABX9TyO0Ge6ny0F85nXlmHK+w0/x",
      "include_colab_link": true
    },
    "kernelspec": {
      "name": "python3",
      "display_name": "Python 3"
    },
    "language_info": {
      "name": "python"
    }
  },
  "cells": [
    {
      "cell_type": "markdown",
      "metadata": {
        "id": "view-in-github",
        "colab_type": "text"
      },
      "source": [
        "<a href=\"https://colab.research.google.com/github/JacobRaffety/About-Me/blob/main/AboutMe_LearningColab.ipynb\" target=\"_parent\"><img src=\"https://colab.research.google.com/assets/colab-badge.svg\" alt=\"Open In Colab\"/></a>"
      ]
    },
    {
      "cell_type": "code",
      "execution_count": null,
      "metadata": {
        "id": "6VJ_i3FoSkBy"
      },
      "outputs": [],
      "source": []
    },
    {
      "cell_type": "markdown",
      "source": [
        "# About Me\n"
      ],
      "metadata": {
        "id": "lhPsh_uvSk_7"
      }
    },
    {
      "cell_type": "markdown",
      "source": [
        "## My name is **Jacob Raffety**\n",
        "I am enrolled in the CNM Data Science bootcamp, and I enrolled to begin a new career path\n",
        "![Deep Dive powered by CNM Ingenuity](https://deepdivecoding.com/wp-content/uploads/2020/07/Asset-2@2x.png \"Deep Dive powered by CNM Ingenuity\")"
      ],
      "metadata": {
        "id": "8faFfw7vSzJv"
      }
    },
    {
      "cell_type": "markdown",
      "source": [
        "## Here is a link to my  [Linkedin Page.](https://www.linkedin.com/in/jacob-raffety-9a2a98219/)\n"
      ],
      "metadata": {
        "id": "NxQioNB-TVuW"
      }
    },
    {
      "cell_type": "markdown",
      "source": [
        "## My Hirable Skills\n",
        "- Works well with others\n",
        "- Enthusiastic learner  \n",
        "- Patient and empathetic\n",
        "\n"
      ],
      "metadata": {
        "id": "HEJke6VuUhy8"
      }
    },
    {
      "cell_type": "markdown",
      "source": [
        "Education | Experience | Personal Activities |\n",
        "- | - | - |\n",
        "B.S. in Physics | I.T. Customer Service | Competitive Super Smash Bros player\n",
        "Minor in Math | Full time Tutor | Soccer\n"
      ],
      "metadata": {
        "id": "Ypjh5p_fVFVF"
      }
    },
    {
      "cell_type": "markdown",
      "source": [
        "### If I had an animal head, I would have a frog head for the utility of its tongue\n"
      ],
      "metadata": {
        "id": "WX4YpIhtWZka"
      }
    }
  ]
}